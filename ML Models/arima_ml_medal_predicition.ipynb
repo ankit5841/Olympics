{
 "cells": [
  {
   "cell_type": "code",
   "execution_count": 1,
   "metadata": {},
   "outputs": [],
   "source": [
    "from pandas import read_csv\n",
    "from pandas import datetime\n",
    "from pandas import DataFrame\n",
    "from statsmodels.tsa.arima_model import ARIMA\n",
    "from matplotlib import pyplot\n",
    "import pandas as pd"
   ]
  },
  {
   "cell_type": "code",
   "execution_count": 2,
   "metadata": {},
   "outputs": [
    {
     "name": "stdout",
     "output_type": "stream",
     "text": [
      "(2790, 10)\n",
      "<class 'pandas.core.frame.DataFrame'>\n",
      "RangeIndex: 2790 entries, 0 to 2789\n",
      "Data columns (total 10 columns):\n",
      "Year        2790 non-null int64\n",
      "Country     2790 non-null object\n",
      "Host        2790 non-null int64\n",
      "Athletes    2790 non-null int64\n",
      "Sports      2790 non-null int64\n",
      "Events      2790 non-null int64\n",
      "Gold        2790 non-null int64\n",
      "Silver      2790 non-null int64\n",
      "Bronze      2790 non-null int64\n",
      "Medals      2790 non-null int64\n",
      "dtypes: int64(9), object(1)\n",
      "memory usage: 218.1+ KB\n",
      "None\n"
     ]
    },
    {
     "data": {
      "text/html": [
       "<div>\n",
       "<style scoped>\n",
       "    .dataframe tbody tr th:only-of-type {\n",
       "        vertical-align: middle;\n",
       "    }\n",
       "\n",
       "    .dataframe tbody tr th {\n",
       "        vertical-align: top;\n",
       "    }\n",
       "\n",
       "    .dataframe thead th {\n",
       "        text-align: right;\n",
       "    }\n",
       "</style>\n",
       "<table border=\"1\" class=\"dataframe\">\n",
       "  <thead>\n",
       "    <tr style=\"text-align: right;\">\n",
       "      <th></th>\n",
       "      <th>Year</th>\n",
       "      <th>Country</th>\n",
       "      <th>Host</th>\n",
       "      <th>Athletes</th>\n",
       "      <th>Sports</th>\n",
       "      <th>Events</th>\n",
       "      <th>Gold</th>\n",
       "      <th>Silver</th>\n",
       "      <th>Bronze</th>\n",
       "      <th>Medals</th>\n",
       "    </tr>\n",
       "  </thead>\n",
       "  <tbody>\n",
       "    <tr>\n",
       "      <td>0</td>\n",
       "      <td>1896</td>\n",
       "      <td>Greece</td>\n",
       "      <td>1</td>\n",
       "      <td>102</td>\n",
       "      <td>9</td>\n",
       "      <td>39</td>\n",
       "      <td>10</td>\n",
       "      <td>17</td>\n",
       "      <td>17</td>\n",
       "      <td>44</td>\n",
       "    </tr>\n",
       "    <tr>\n",
       "      <td>1</td>\n",
       "      <td>1896</td>\n",
       "      <td>USA</td>\n",
       "      <td>0</td>\n",
       "      <td>14</td>\n",
       "      <td>3</td>\n",
       "      <td>16</td>\n",
       "      <td>11</td>\n",
       "      <td>6</td>\n",
       "      <td>2</td>\n",
       "      <td>19</td>\n",
       "    </tr>\n",
       "    <tr>\n",
       "      <td>2</td>\n",
       "      <td>1896</td>\n",
       "      <td>Germany</td>\n",
       "      <td>0</td>\n",
       "      <td>19</td>\n",
       "      <td>6</td>\n",
       "      <td>27</td>\n",
       "      <td>7</td>\n",
       "      <td>5</td>\n",
       "      <td>2</td>\n",
       "      <td>14</td>\n",
       "    </tr>\n",
       "    <tr>\n",
       "      <td>3</td>\n",
       "      <td>1896</td>\n",
       "      <td>France</td>\n",
       "      <td>0</td>\n",
       "      <td>12</td>\n",
       "      <td>6</td>\n",
       "      <td>18</td>\n",
       "      <td>5</td>\n",
       "      <td>4</td>\n",
       "      <td>2</td>\n",
       "      <td>11</td>\n",
       "    </tr>\n",
       "    <tr>\n",
       "      <td>4</td>\n",
       "      <td>1896</td>\n",
       "      <td>UK</td>\n",
       "      <td>0</td>\n",
       "      <td>10</td>\n",
       "      <td>7</td>\n",
       "      <td>19</td>\n",
       "      <td>3</td>\n",
       "      <td>3</td>\n",
       "      <td>3</td>\n",
       "      <td>9</td>\n",
       "    </tr>\n",
       "  </tbody>\n",
       "</table>\n",
       "</div>"
      ],
      "text/plain": [
       "   Year  Country  Host  Athletes  Sports  Events  Gold  Silver  Bronze  Medals\n",
       "0  1896   Greece     1       102       9      39    10      17      17      44\n",
       "1  1896      USA     0        14       3      16    11       6       2      19\n",
       "2  1896  Germany     0        19       6      27     7       5       2      14\n",
       "3  1896   France     0        12       6      18     5       4       2      11\n",
       "4  1896       UK     0        10       7      19     3       3       3       9"
      ]
     },
     "execution_count": 2,
     "metadata": {},
     "output_type": "execute_result"
    }
   ],
   "source": [
    "# Reading the data\n",
    "df = pd.read_csv(\"summer_athlete_medals_count.csv\")\n",
    "print(df.shape)\n",
    "print(df.info())\n",
    "df.head()\n"
   ]
  },
  {
   "cell_type": "code",
   "execution_count": 62,
   "metadata": {},
   "outputs": [
    {
     "name": "stderr",
     "output_type": "stream",
     "text": [
      "C:\\Users\\ritik\\Anaconda3\\lib\\site-packages\\ipykernel_launcher.py:3: SettingWithCopyWarning: \n",
      "A value is trying to be set on a copy of a slice from a DataFrame\n",
      "\n",
      "See the caveats in the documentation: http://pandas.pydata.org/pandas-docs/stable/user_guide/indexing.html#returning-a-view-versus-a-copy\n",
      "  This is separate from the ipykernel package so we can avoid doing imports until\n",
      "C:\\Users\\ritik\\Anaconda3\\lib\\site-packages\\ipykernel_launcher.py:9: SettingWithCopyWarning: \n",
      "A value is trying to be set on a copy of a slice from a DataFrame\n",
      "\n",
      "See the caveats in the documentation: http://pandas.pydata.org/pandas-docs/stable/user_guide/indexing.html#returning-a-view-versus-a-copy\n",
      "  if __name__ == '__main__':\n",
      "C:\\Users\\ritik\\Anaconda3\\lib\\site-packages\\ipykernel_launcher.py:15: SettingWithCopyWarning: \n",
      "A value is trying to be set on a copy of a slice from a DataFrame\n",
      "\n",
      "See the caveats in the documentation: http://pandas.pydata.org/pandas-docs/stable/user_guide/indexing.html#returning-a-view-versus-a-copy\n",
      "  from ipykernel import kernelapp as app\n",
      "C:\\Users\\ritik\\Anaconda3\\lib\\site-packages\\ipykernel_launcher.py:22: SettingWithCopyWarning: \n",
      "A value is trying to be set on a copy of a slice from a DataFrame\n",
      "\n",
      "See the caveats in the documentation: http://pandas.pydata.org/pandas-docs/stable/user_guide/indexing.html#returning-a-view-versus-a-copy\n"
     ]
    }
   ],
   "source": [
    "usa_df =  df[(df.Country == \"USA\") & (df.Year >= 1896)]\n",
    "usa_df_gold = usa_df[[\"Year\", \"Gold\"]]\n",
    "usa_df_gold.dropna(inplace=True)\n",
    "df1 = pd.DataFrame([[2020, 0]], columns=list([\"Year\", \"Gold\"]))\n",
    "usa_df_gold = usa_df_gold.append(df1, ignore_index=True)\n",
    "usa_df_gold.to_csv('usa_gold_data.csv', index=False)\n",
    "\n",
    "usa_df_silver = usa_df[[\"Year\", \"Silver\"]]\n",
    "usa_df_silver.dropna(inplace=True)\n",
    "df2 = pd.DataFrame([[2020, 0]], columns=list([\"Year\", \"Silver\"]))\n",
    "usa_df_silver = usa_df_silver.append(df2, ignore_index=True)\n",
    "usa_df_silver.to_csv('usa_silver_data.csv', index=False)\n",
    "\n",
    "usa_df_bronze = usa_df[[\"Year\", \"Bronze\"]]\n",
    "usa_df_bronze.dropna(inplace=True)\n",
    "df3 = pd.DataFrame([[2020, 0]], columns=list([\"Year\", \"Bronze\"]))\n",
    "usa_df_bronze = usa_df_bronze.append(df3, ignore_index=True)\n",
    "usa_df_bronze\n",
    "usa_df_bronze.to_csv('usa_bronze_data.csv', index=False)\n",
    "\n",
    "usa_df_total = usa_df[[\"Year\", \"Medals\"]]\n",
    "usa_df_total.dropna(inplace=True)\n",
    "df5 = pd.DataFrame([[2020, 0]], columns=list([\"Year\", \"Medals\"]))\n",
    "usa_df_total = usa_df_total.append(df5, ignore_index=True)\n",
    "usa_df_total\n",
    "usa_df_total.to_csv('usa_total_data.csv', index=False)"
   ]
  },
  {
   "cell_type": "code",
   "execution_count": 71,
   "metadata": {},
   "outputs": [
    {
     "name": "stdout",
     "output_type": "stream",
     "text": [
      "Year=2004, predicted=99, actual=101\n",
      "Year=2008, predicted=100, actual=110\n",
      "Year=2012, predicted=110, actual=103\n",
      "Year=2016, predicted=110, actual=121\n",
      "Year=2020, predicted=117, actual=0\n",
      "5\n",
      "Test MSE: 62.824\n"
     ]
    },
    {
     "data": {
      "image/png": "[encoded data removed]",
      "text/plain": [
       "<Figure size 432x288 with 1 Axes>"
      ]
     },
     "metadata": {
      "needs_background": "light"
     },
     "output_type": "display_data"
    }
   ],
   "source": [
    "from sklearn.metrics import mean_squared_error\n",
    "def parser(x):\n",
    "    #return datetime.strptime('190'+x, '%Y-%m')\n",
    "    return datetime.strptime(x, '%Y')\n",
    "\n",
    "series = read_csv('usa_total_data.csv', header=0, parse_dates=[0], index_col=0, squeeze=True, date_parser=parser)\n",
    "df4 = pd.read_csv(\"usa_total_data.csv\")\n",
    "error = []\n",
    "X = series.values\n",
    "#print(df4['Year'][0])\n",
    "size = int(len(X) * 0.85)\n",
    "train, test = X[0:size], X[size:len(X)]\n",
    "history = [x for x in train]\n",
    "predictions = list()\n",
    "#print(test)\n",
    "for t in range(len(test)):\n",
    "    model = ARIMA(history, order=(1,1,0))\n",
    "    #print(model)\n",
    "    model_fit = model.fit(disp=0)\n",
    "    #print(model_fit)\n",
    "    output = model_fit.forecast()\n",
    "    yhat = output[0]\n",
    "    predictions.append(yhat)\n",
    "    obs = test[t]\n",
    "    history.append(obs)\n",
    "    print('Year=%i, predicted=%i, actual=%i' % (df4['Year'][size],yhat, obs))\n",
    "    size +=1\n",
    "print(len(test))\n",
    "test_value = test[:-1]\n",
    "predictions_value = predictions[:-1]\n",
    "error = mean_squared_error(test_value, predictions_value)\n",
    "print('Test MSE: %.3f' % error)\n",
    "# plot\n",
    "pyplot.plot(test)\n",
    "pyplot.plot(predictions, color='red')\n",
    "pyplot.show()"
   ]
  },
  {
   "cell_type": "code",
   "execution_count": null,
   "metadata": {},
   "outputs": [],
   "source": []
  }
 ],
 "metadata": {
  "kernelspec": {
   "display_name": "Python 3",
   "language": "python",
   "name": "python3"
  },
  "language_info": {
   "codemirror_mode": {
    "name": "ipython",
    "version": 3
   },
   "file_extension": ".py",
   "mimetype": "text/x-python",
   "name": "python",
   "nbconvert_exporter": "python",
   "pygments_lexer": "ipython3",
   "version": "3.7.4"
  }
 },
 "nbformat": 4,
 "nbformat_minor": 2
}
